{
 "cells": [
  {
   "cell_type": "code",
   "execution_count": 86,
   "id": "moving-promise",
   "metadata": {},
   "outputs": [],
   "source": [
    "# Libraries\n",
    "library(anytime)\n",
    "library(MASS)\n",
    "library(fitdistrplus)\n",
    "library(dotenv)"
   ]
  },
  {
   "cell_type": "code",
   "execution_count": 88,
   "id": "celtic-philadelphia",
   "metadata": {},
   "outputs": [
    {
     "data": {
      "text/html": [
       "'C:/Users/maste/OneDrive/Documentos/Code_ks/googletrends_trading/data/tokens'"
      ],
      "text/latex": [
       "'C:/Users/maste/OneDrive/Documentos/Code\\_ks/googletrends\\_trading/data/tokens'"
      ],
      "text/markdown": [
       "'C:/Users/maste/OneDrive/Documentos/Code_ks/googletrends_trading/data/tokens'"
      ],
      "text/plain": [
       "[1] \"C:/Users/maste/OneDrive/Documentos/Code_ks/googletrends_trading/data/tokens\""
      ]
     },
     "metadata": {},
     "output_type": "display_data"
    }
   ],
   "source": [
    "getwd()\n",
    "setwd('..')"
   ]
  },
  {
   "cell_type": "code",
   "execution_count": 89,
   "id": "pointed-generator",
   "metadata": {},
   "outputs": [
    {
     "name": "stderr",
     "output_type": "stream",
     "text": [
      "Warning message in readLines(file):\n",
      "\"incomplete final line found on '.env'\""
     ]
    }
   ],
   "source": [
    "# Load paths\n",
    "setwd('..')\n",
    "load_dot_env()\n",
    "trends_path <- Sys.getenv(\"GOOGLE_TRENDS\")\n",
    "crypto_path <- Sys.getenv(\"CRYPTO\")\n",
    "data_path <- Sys.getenv(\"DATA_PATH\")\n",
    "my_root <- Sys.getenv(\"MY_ROOT\")"
   ]
  },
  {
   "cell_type": "markdown",
   "id": "particular-father",
   "metadata": {},
   "source": [
    "# Loading data base and getting returns column"
   ]
  },
  {
   "cell_type": "code",
   "execution_count": 90,
   "id": "certain-cargo",
   "metadata": {},
   "outputs": [],
   "source": [
    "setwd(crypto_path)\n",
    "\n",
    "# Load dataset\n",
    "bp <- read.table(\"btc_price.csv\", sep=\",\", header = TRUE)"
   ]
  },
  {
   "cell_type": "code",
   "execution_count": 48,
   "id": "modular-astronomy",
   "metadata": {},
   "outputs": [
    {
     "data": {
      "text/html": [
       "<table>\n",
       "<thead><tr><th scope=col>o_time</th><th scope=col>open</th><th scope=col>high</th><th scope=col>low</th><th scope=col>close</th><th scope=col>volume</th><th scope=col>c_time</th><th scope=col>qa_time</th><th scope=col>number_trades</th><th scope=col>tbav</th><th scope=col>tbav2</th><th scope=col>ignored</th></tr></thead>\n",
       "<tbody>\n",
       "\t<tr><td>2017-08-17 00:00:00-05:00          </td><td>4308.83                            </td><td>4328.69                            </td><td>4291.37                            </td><td>4315.32                            </td><td>23.234916                          </td><td>2017-08-17 00:59:59.999000064-05:00</td><td>100304.824                         </td><td>102                                </td><td>21.448071                          </td><td>92608.280                          </td><td>8039.262                           </td></tr>\n",
       "\t<tr><td>2017-08-17 01:00:00-05:00          </td><td>4330.29                            </td><td>4345.45                            </td><td>4309.37                            </td><td>4324.35                            </td><td> 7.229691                          </td><td>2017-08-17 01:59:59.999000064-05:00</td><td> 31282.313                         </td><td> 36                                </td><td> 4.802861                          </td><td>20795.317                          </td><td>8041.760                           </td></tr>\n",
       "\t<tr><td>2017-08-17 02:00:00-05:00          </td><td>4316.62                            </td><td>4349.99                            </td><td>4287.41                            </td><td>4349.99                            </td><td> 4.443249                          </td><td>2017-08-17 02:59:59.999000064-05:00</td><td> 19241.058                         </td><td> 25                                </td><td> 2.602292                          </td><td>11291.347                          </td><td>8048.128                           </td></tr>\n",
       "\t<tr><td>2017-08-17 03:00:00-05:00          </td><td>4333.32                            </td><td>4377.85                            </td><td>4333.32                            </td><td>4360.69                            </td><td> 0.972807                          </td><td>2017-08-17 03:59:59.999000064-05:00</td><td>  4239.504                         </td><td> 28                                </td><td> 0.814655                          </td><td> 3552.747                          </td><td>8018.037                           </td></tr>\n",
       "\t<tr><td>2017-08-17 04:00:00-05:00          </td><td>4360.00                            </td><td>4445.78                            </td><td>4360.00                            </td><td>4444.00                            </td><td>10.763623                          </td><td>2017-08-17 04:59:59.999000064-05:00</td><td> 47219.356                         </td><td> 43                                </td><td>10.258400                          </td><td>44995.378                          </td><td>8037.265                           </td></tr>\n",
       "\t<tr><td>2017-08-17 05:00:00-05:00          </td><td>4441.10                            </td><td>4470.00                            </td><td>4399.81                            </td><td>4460.00                            </td><td>24.865399                          </td><td>2017-08-17 05:59:59.999000064-05:00</td><td>110290.729                         </td><td> 82                                </td><td>21.698693                          </td><td>96225.973                          </td><td>7981.746                           </td></tr>\n",
       "</tbody>\n",
       "</table>\n"
      ],
      "text/latex": [
       "\\begin{tabular}{r|llllllllllll}\n",
       " o\\_time & open & high & low & close & volume & c\\_time & qa\\_time & number\\_trades & tbav & tbav2 & ignored\\\\\n",
       "\\hline\n",
       "\t 2017-08-17 00:00:00-05:00           & 4308.83                             & 4328.69                             & 4291.37                             & 4315.32                             & 23.234916                           & 2017-08-17 00:59:59.999000064-05:00 & 100304.824                          & 102                                 & 21.448071                           & 92608.280                           & 8039.262                           \\\\\n",
       "\t 2017-08-17 01:00:00-05:00           & 4330.29                             & 4345.45                             & 4309.37                             & 4324.35                             &  7.229691                           & 2017-08-17 01:59:59.999000064-05:00 &  31282.313                          &  36                                 &  4.802861                           & 20795.317                           & 8041.760                           \\\\\n",
       "\t 2017-08-17 02:00:00-05:00           & 4316.62                             & 4349.99                             & 4287.41                             & 4349.99                             &  4.443249                           & 2017-08-17 02:59:59.999000064-05:00 &  19241.058                          &  25                                 &  2.602292                           & 11291.347                           & 8048.128                           \\\\\n",
       "\t 2017-08-17 03:00:00-05:00           & 4333.32                             & 4377.85                             & 4333.32                             & 4360.69                             &  0.972807                           & 2017-08-17 03:59:59.999000064-05:00 &   4239.504                          &  28                                 &  0.814655                           &  3552.747                           & 8018.037                           \\\\\n",
       "\t 2017-08-17 04:00:00-05:00           & 4360.00                             & 4445.78                             & 4360.00                             & 4444.00                             & 10.763623                           & 2017-08-17 04:59:59.999000064-05:00 &  47219.356                          &  43                                 & 10.258400                           & 44995.378                           & 8037.265                           \\\\\n",
       "\t 2017-08-17 05:00:00-05:00           & 4441.10                             & 4470.00                             & 4399.81                             & 4460.00                             & 24.865399                           & 2017-08-17 05:59:59.999000064-05:00 & 110290.729                          &  82                                 & 21.698693                           & 96225.973                           & 7981.746                           \\\\\n",
       "\\end{tabular}\n"
      ],
      "text/markdown": [
       "\n",
       "| o_time | open | high | low | close | volume | c_time | qa_time | number_trades | tbav | tbav2 | ignored |\n",
       "|---|---|---|---|---|---|---|---|---|---|---|---|\n",
       "| 2017-08-17 00:00:00-05:00           | 4308.83                             | 4328.69                             | 4291.37                             | 4315.32                             | 23.234916                           | 2017-08-17 00:59:59.999000064-05:00 | 100304.824                          | 102                                 | 21.448071                           | 92608.280                           | 8039.262                            |\n",
       "| 2017-08-17 01:00:00-05:00           | 4330.29                             | 4345.45                             | 4309.37                             | 4324.35                             |  7.229691                           | 2017-08-17 01:59:59.999000064-05:00 |  31282.313                          |  36                                 |  4.802861                           | 20795.317                           | 8041.760                            |\n",
       "| 2017-08-17 02:00:00-05:00           | 4316.62                             | 4349.99                             | 4287.41                             | 4349.99                             |  4.443249                           | 2017-08-17 02:59:59.999000064-05:00 |  19241.058                          |  25                                 |  2.602292                           | 11291.347                           | 8048.128                            |\n",
       "| 2017-08-17 03:00:00-05:00           | 4333.32                             | 4377.85                             | 4333.32                             | 4360.69                             |  0.972807                           | 2017-08-17 03:59:59.999000064-05:00 |   4239.504                          |  28                                 |  0.814655                           |  3552.747                           | 8018.037                            |\n",
       "| 2017-08-17 04:00:00-05:00           | 4360.00                             | 4445.78                             | 4360.00                             | 4444.00                             | 10.763623                           | 2017-08-17 04:59:59.999000064-05:00 |  47219.356                          |  43                                 | 10.258400                           | 44995.378                           | 8037.265                            |\n",
       "| 2017-08-17 05:00:00-05:00           | 4441.10                             | 4470.00                             | 4399.81                             | 4460.00                             | 24.865399                           | 2017-08-17 05:59:59.999000064-05:00 | 110290.729                          |  82                                 | 21.698693                           | 96225.973                           | 7981.746                            |\n",
       "\n"
      ],
      "text/plain": [
       "  o_time                    open    high    low     close   volume   \n",
       "1 2017-08-17 00:00:00-05:00 4308.83 4328.69 4291.37 4315.32 23.234916\n",
       "2 2017-08-17 01:00:00-05:00 4330.29 4345.45 4309.37 4324.35  7.229691\n",
       "3 2017-08-17 02:00:00-05:00 4316.62 4349.99 4287.41 4349.99  4.443249\n",
       "4 2017-08-17 03:00:00-05:00 4333.32 4377.85 4333.32 4360.69  0.972807\n",
       "5 2017-08-17 04:00:00-05:00 4360.00 4445.78 4360.00 4444.00 10.763623\n",
       "6 2017-08-17 05:00:00-05:00 4441.10 4470.00 4399.81 4460.00 24.865399\n",
       "  c_time                              qa_time    number_trades tbav     \n",
       "1 2017-08-17 00:59:59.999000064-05:00 100304.824 102           21.448071\n",
       "2 2017-08-17 01:59:59.999000064-05:00  31282.313  36            4.802861\n",
       "3 2017-08-17 02:59:59.999000064-05:00  19241.058  25            2.602292\n",
       "4 2017-08-17 03:59:59.999000064-05:00   4239.504  28            0.814655\n",
       "5 2017-08-17 04:59:59.999000064-05:00  47219.356  43           10.258400\n",
       "6 2017-08-17 05:59:59.999000064-05:00 110290.729  82           21.698693\n",
       "  tbav2     ignored \n",
       "1 92608.280 8039.262\n",
       "2 20795.317 8041.760\n",
       "3 11291.347 8048.128\n",
       "4  3552.747 8018.037\n",
       "5 44995.378 8037.265\n",
       "6 96225.973 7981.746"
      ]
     },
     "metadata": {},
     "output_type": "display_data"
    }
   ],
   "source": [
    "# Checkout the data\n",
    "head(bp)"
   ]
  },
  {
   "cell_type": "code",
   "execution_count": 11,
   "id": "catholic-raleigh",
   "metadata": {},
   "outputs": [],
   "source": [
    "# Just in case of raw data from binance\n",
    "#bp$o_time <- anytime(bp$o_time/1000)\n",
    "#bp$c_time <- anytime(bp$c_time/1000)"
   ]
  },
  {
   "cell_type": "code",
   "execution_count": 91,
   "id": "sharp-absorption",
   "metadata": {},
   "outputs": [
    {
     "data": {
      "text/html": [
       "<table>\n",
       "<thead><tr><th scope=col>o_time</th><th scope=col>open</th><th scope=col>high</th><th scope=col>low</th><th scope=col>close</th><th scope=col>volume</th></tr></thead>\n",
       "<tbody>\n",
       "\t<tr><td>2017-08-17 00:00:00-05:00</td><td>4308.83                  </td><td>4328.69                  </td><td>4291.37                  </td><td>4315.32                  </td><td>23.234916                </td></tr>\n",
       "\t<tr><td>2017-08-17 01:00:00-05:00</td><td>4330.29                  </td><td>4345.45                  </td><td>4309.37                  </td><td>4324.35                  </td><td> 7.229691                </td></tr>\n",
       "\t<tr><td>2017-08-17 02:00:00-05:00</td><td>4316.62                  </td><td>4349.99                  </td><td>4287.41                  </td><td>4349.99                  </td><td> 4.443249                </td></tr>\n",
       "\t<tr><td>2017-08-17 03:00:00-05:00</td><td>4333.32                  </td><td>4377.85                  </td><td>4333.32                  </td><td>4360.69                  </td><td> 0.972807                </td></tr>\n",
       "\t<tr><td>2017-08-17 04:00:00-05:00</td><td>4360.00                  </td><td>4445.78                  </td><td>4360.00                  </td><td>4444.00                  </td><td>10.763623                </td></tr>\n",
       "\t<tr><td>2017-08-17 05:00:00-05:00</td><td>4441.10                  </td><td>4470.00                  </td><td>4399.81                  </td><td>4460.00                  </td><td>24.865399                </td></tr>\n",
       "</tbody>\n",
       "</table>\n"
      ],
      "text/latex": [
       "\\begin{tabular}{r|llllll}\n",
       " o\\_time & open & high & low & close & volume\\\\\n",
       "\\hline\n",
       "\t 2017-08-17 00:00:00-05:00 & 4308.83                   & 4328.69                   & 4291.37                   & 4315.32                   & 23.234916                \\\\\n",
       "\t 2017-08-17 01:00:00-05:00 & 4330.29                   & 4345.45                   & 4309.37                   & 4324.35                   &  7.229691                \\\\\n",
       "\t 2017-08-17 02:00:00-05:00 & 4316.62                   & 4349.99                   & 4287.41                   & 4349.99                   &  4.443249                \\\\\n",
       "\t 2017-08-17 03:00:00-05:00 & 4333.32                   & 4377.85                   & 4333.32                   & 4360.69                   &  0.972807                \\\\\n",
       "\t 2017-08-17 04:00:00-05:00 & 4360.00                   & 4445.78                   & 4360.00                   & 4444.00                   & 10.763623                \\\\\n",
       "\t 2017-08-17 05:00:00-05:00 & 4441.10                   & 4470.00                   & 4399.81                   & 4460.00                   & 24.865399                \\\\\n",
       "\\end{tabular}\n"
      ],
      "text/markdown": [
       "\n",
       "| o_time | open | high | low | close | volume |\n",
       "|---|---|---|---|---|---|\n",
       "| 2017-08-17 00:00:00-05:00 | 4308.83                   | 4328.69                   | 4291.37                   | 4315.32                   | 23.234916                 |\n",
       "| 2017-08-17 01:00:00-05:00 | 4330.29                   | 4345.45                   | 4309.37                   | 4324.35                   |  7.229691                 |\n",
       "| 2017-08-17 02:00:00-05:00 | 4316.62                   | 4349.99                   | 4287.41                   | 4349.99                   |  4.443249                 |\n",
       "| 2017-08-17 03:00:00-05:00 | 4333.32                   | 4377.85                   | 4333.32                   | 4360.69                   |  0.972807                 |\n",
       "| 2017-08-17 04:00:00-05:00 | 4360.00                   | 4445.78                   | 4360.00                   | 4444.00                   | 10.763623                 |\n",
       "| 2017-08-17 05:00:00-05:00 | 4441.10                   | 4470.00                   | 4399.81                   | 4460.00                   | 24.865399                 |\n",
       "\n"
      ],
      "text/plain": [
       "  o_time                    open    high    low     close   volume   \n",
       "1 2017-08-17 00:00:00-05:00 4308.83 4328.69 4291.37 4315.32 23.234916\n",
       "2 2017-08-17 01:00:00-05:00 4330.29 4345.45 4309.37 4324.35  7.229691\n",
       "3 2017-08-17 02:00:00-05:00 4316.62 4349.99 4287.41 4349.99  4.443249\n",
       "4 2017-08-17 03:00:00-05:00 4333.32 4377.85 4333.32 4360.69  0.972807\n",
       "5 2017-08-17 04:00:00-05:00 4360.00 4445.78 4360.00 4444.00 10.763623\n",
       "6 2017-08-17 05:00:00-05:00 4441.10 4470.00 4399.81 4460.00 24.865399"
      ]
     },
     "metadata": {},
     "output_type": "display_data"
    }
   ],
   "source": [
    "# We get just OHLCV columns and the open_time column\n",
    "bp <- bp[c('o_time', 'open', 'high', 'low', 'close', 'volume')]\n",
    "head(bp)"
   ]
  },
  {
   "cell_type": "code",
   "execution_count": 92,
   "id": "suffering-depth",
   "metadata": {},
   "outputs": [],
   "source": [
    "# Function for getting retuns column:\n",
    "ln_returns <- function(x){\n",
    "  # Incializas la variable \"a\".\n",
    "  a <- NULL\n",
    "  a[1] <- NA\n",
    "  # Cada \"x\" esta pensado para recibir un vector (recibirá cada columna de la base)\n",
    "  for(i in 2:length(x)){\n",
    "    #a[i] <- log(x[i]/x[i-1])\n",
    "    a[i] <- (x[i] - x[i-1])/x[i-1] \n",
    "    if(is.infinite(a[i]) | is.nan(a[i])){\n",
    "      a[i] <- 0\n",
    "    } else{\n",
    "      a[i] <- a[i]*100\n",
    "    }\n",
    "  }\n",
    "  return(a)\n",
    "}"
   ]
  },
  {
   "cell_type": "code",
   "execution_count": 93,
   "id": "christian-narrow",
   "metadata": {},
   "outputs": [
    {
     "data": {
      "text/html": [
       "<table>\n",
       "<thead><tr><th></th><th scope=col>o_time</th><th scope=col>open</th><th scope=col>high</th><th scope=col>low</th><th scope=col>close</th><th scope=col>volume</th><th scope=col>returns</th></tr></thead>\n",
       "<tbody>\n",
       "\t<tr><th scope=row>2</th><td>2017-08-17 01:00:00-05:00</td><td>4330.29                  </td><td>4345.45                  </td><td>4309.37                  </td><td>4324.35                  </td><td> 7.229691                </td><td> 0.2092545               </td></tr>\n",
       "\t<tr><th scope=row>3</th><td>2017-08-17 02:00:00-05:00</td><td>4316.62                  </td><td>4349.99                  </td><td>4287.41                  </td><td>4349.99                  </td><td> 4.443249                </td><td> 0.5929215               </td></tr>\n",
       "\t<tr><th scope=row>4</th><td>2017-08-17 03:00:00-05:00</td><td>4333.32                  </td><td>4377.85                  </td><td>4333.32                  </td><td>4360.69                  </td><td> 0.972807                </td><td> 0.2459776               </td></tr>\n",
       "\t<tr><th scope=row>5</th><td>2017-08-17 04:00:00-05:00</td><td>4360.00                  </td><td>4445.78                  </td><td>4360.00                  </td><td>4444.00                  </td><td>10.763623                </td><td> 1.9104775               </td></tr>\n",
       "\t<tr><th scope=row>6</th><td>2017-08-17 05:00:00-05:00</td><td>4441.10                  </td><td>4470.00                  </td><td>4399.81                  </td><td>4460.00                  </td><td>24.865399                </td><td> 0.3600360               </td></tr>\n",
       "\t<tr><th scope=row>7</th><td>2017-08-17 06:00:00-05:00</td><td>4460.00                  </td><td>4485.39                  </td><td>4427.30                  </td><td>4427.30                  </td><td>27.018053                </td><td>-0.7331839               </td></tr>\n",
       "</tbody>\n",
       "</table>\n"
      ],
      "text/latex": [
       "\\begin{tabular}{r|lllllll}\n",
       "  & o\\_time & open & high & low & close & volume & returns\\\\\n",
       "\\hline\n",
       "\t2 & 2017-08-17 01:00:00-05:00 & 4330.29                   & 4345.45                   & 4309.37                   & 4324.35                   &  7.229691                 &  0.2092545               \\\\\n",
       "\t3 & 2017-08-17 02:00:00-05:00 & 4316.62                   & 4349.99                   & 4287.41                   & 4349.99                   &  4.443249                 &  0.5929215               \\\\\n",
       "\t4 & 2017-08-17 03:00:00-05:00 & 4333.32                   & 4377.85                   & 4333.32                   & 4360.69                   &  0.972807                 &  0.2459776               \\\\\n",
       "\t5 & 2017-08-17 04:00:00-05:00 & 4360.00                   & 4445.78                   & 4360.00                   & 4444.00                   & 10.763623                 &  1.9104775               \\\\\n",
       "\t6 & 2017-08-17 05:00:00-05:00 & 4441.10                   & 4470.00                   & 4399.81                   & 4460.00                   & 24.865399                 &  0.3600360               \\\\\n",
       "\t7 & 2017-08-17 06:00:00-05:00 & 4460.00                   & 4485.39                   & 4427.30                   & 4427.30                   & 27.018053                 & -0.7331839               \\\\\n",
       "\\end{tabular}\n"
      ],
      "text/markdown": [
       "\n",
       "| <!--/--> | o_time | open | high | low | close | volume | returns |\n",
       "|---|---|---|---|---|---|---|---|\n",
       "| 2 | 2017-08-17 01:00:00-05:00 | 4330.29                   | 4345.45                   | 4309.37                   | 4324.35                   |  7.229691                 |  0.2092545                |\n",
       "| 3 | 2017-08-17 02:00:00-05:00 | 4316.62                   | 4349.99                   | 4287.41                   | 4349.99                   |  4.443249                 |  0.5929215                |\n",
       "| 4 | 2017-08-17 03:00:00-05:00 | 4333.32                   | 4377.85                   | 4333.32                   | 4360.69                   |  0.972807                 |  0.2459776                |\n",
       "| 5 | 2017-08-17 04:00:00-05:00 | 4360.00                   | 4445.78                   | 4360.00                   | 4444.00                   | 10.763623                 |  1.9104775                |\n",
       "| 6 | 2017-08-17 05:00:00-05:00 | 4441.10                   | 4470.00                   | 4399.81                   | 4460.00                   | 24.865399                 |  0.3600360                |\n",
       "| 7 | 2017-08-17 06:00:00-05:00 | 4460.00                   | 4485.39                   | 4427.30                   | 4427.30                   | 27.018053                 | -0.7331839                |\n",
       "\n"
      ],
      "text/plain": [
       "  o_time                    open    high    low     close   volume   \n",
       "2 2017-08-17 01:00:00-05:00 4330.29 4345.45 4309.37 4324.35  7.229691\n",
       "3 2017-08-17 02:00:00-05:00 4316.62 4349.99 4287.41 4349.99  4.443249\n",
       "4 2017-08-17 03:00:00-05:00 4333.32 4377.85 4333.32 4360.69  0.972807\n",
       "5 2017-08-17 04:00:00-05:00 4360.00 4445.78 4360.00 4444.00 10.763623\n",
       "6 2017-08-17 05:00:00-05:00 4441.10 4470.00 4399.81 4460.00 24.865399\n",
       "7 2017-08-17 06:00:00-05:00 4460.00 4485.39 4427.30 4427.30 27.018053\n",
       "  returns   \n",
       "2  0.2092545\n",
       "3  0.5929215\n",
       "4  0.2459776\n",
       "5  1.9104775\n",
       "6  0.3600360\n",
       "7 -0.7331839"
      ]
     },
     "metadata": {},
     "output_type": "display_data"
    },
    {
     "data": {
      "text/html": [
       "<table>\n",
       "<thead><tr><th></th><th scope=col>o_time</th><th scope=col>open</th><th scope=col>high</th><th scope=col>low</th><th scope=col>close</th><th scope=col>volume</th><th scope=col>returns</th></tr></thead>\n",
       "<tbody>\n",
       "\t<tr><th scope=row>29332</th><td>2020-12-25 19:00:00-06:00</td><td>24601.07                 </td><td>24932.16                 </td><td>24500.00                 </td><td>24907.78                 </td><td>3747.828                 </td><td> 1.2418783               </td></tr>\n",
       "\t<tr><th scope=row>29333</th><td>2020-12-25 20:00:00-06:00</td><td>24907.78                 </td><td>24976.00                 </td><td>24750.00                 </td><td>24838.27                 </td><td>3438.875                 </td><td>-0.2790694               </td></tr>\n",
       "\t<tr><th scope=row>29334</th><td>2020-12-25 21:00:00-06:00</td><td>24838.27                 </td><td>25039.96                 </td><td>24815.52                 </td><td>24909.79                 </td><td>3949.926                 </td><td> 0.2879428               </td></tr>\n",
       "\t<tr><th scope=row>29335</th><td>2020-12-25 22:00:00-06:00</td><td>24909.80                 </td><td>24920.00                 </td><td>24745.41                 </td><td>24810.06                 </td><td>2386.010                 </td><td>-0.4003647               </td></tr>\n",
       "\t<tr><th scope=row>29336</th><td>2020-12-25 23:00:00-06:00</td><td>24810.06                 </td><td>24843.44                 </td><td>24661.30                 </td><td>24708.87                 </td><td>2783.609                 </td><td>-0.4078587               </td></tr>\n",
       "\t<tr><th scope=row>29337</th><td>2020-12-26 00:00:00-06:00</td><td>24708.87                 </td><td>24868.98                 </td><td>24652.54                 </td><td>24830.66                 </td><td>1689.136                 </td><td> 0.4928999               </td></tr>\n",
       "</tbody>\n",
       "</table>\n"
      ],
      "text/latex": [
       "\\begin{tabular}{r|lllllll}\n",
       "  & o\\_time & open & high & low & close & volume & returns\\\\\n",
       "\\hline\n",
       "\t29332 & 2020-12-25 19:00:00-06:00 & 24601.07                  & 24932.16                  & 24500.00                  & 24907.78                  & 3747.828                  &  1.2418783               \\\\\n",
       "\t29333 & 2020-12-25 20:00:00-06:00 & 24907.78                  & 24976.00                  & 24750.00                  & 24838.27                  & 3438.875                  & -0.2790694               \\\\\n",
       "\t29334 & 2020-12-25 21:00:00-06:00 & 24838.27                  & 25039.96                  & 24815.52                  & 24909.79                  & 3949.926                  &  0.2879428               \\\\\n",
       "\t29335 & 2020-12-25 22:00:00-06:00 & 24909.80                  & 24920.00                  & 24745.41                  & 24810.06                  & 2386.010                  & -0.4003647               \\\\\n",
       "\t29336 & 2020-12-25 23:00:00-06:00 & 24810.06                  & 24843.44                  & 24661.30                  & 24708.87                  & 2783.609                  & -0.4078587               \\\\\n",
       "\t29337 & 2020-12-26 00:00:00-06:00 & 24708.87                  & 24868.98                  & 24652.54                  & 24830.66                  & 1689.136                  &  0.4928999               \\\\\n",
       "\\end{tabular}\n"
      ],
      "text/markdown": [
       "\n",
       "| <!--/--> | o_time | open | high | low | close | volume | returns |\n",
       "|---|---|---|---|---|---|---|---|\n",
       "| 29332 | 2020-12-25 19:00:00-06:00 | 24601.07                  | 24932.16                  | 24500.00                  | 24907.78                  | 3747.828                  |  1.2418783                |\n",
       "| 29333 | 2020-12-25 20:00:00-06:00 | 24907.78                  | 24976.00                  | 24750.00                  | 24838.27                  | 3438.875                  | -0.2790694                |\n",
       "| 29334 | 2020-12-25 21:00:00-06:00 | 24838.27                  | 25039.96                  | 24815.52                  | 24909.79                  | 3949.926                  |  0.2879428                |\n",
       "| 29335 | 2020-12-25 22:00:00-06:00 | 24909.80                  | 24920.00                  | 24745.41                  | 24810.06                  | 2386.010                  | -0.4003647                |\n",
       "| 29336 | 2020-12-25 23:00:00-06:00 | 24810.06                  | 24843.44                  | 24661.30                  | 24708.87                  | 2783.609                  | -0.4078587                |\n",
       "| 29337 | 2020-12-26 00:00:00-06:00 | 24708.87                  | 24868.98                  | 24652.54                  | 24830.66                  | 1689.136                  |  0.4928999                |\n",
       "\n"
      ],
      "text/plain": [
       "      o_time                    open     high     low      close    volume  \n",
       "29332 2020-12-25 19:00:00-06:00 24601.07 24932.16 24500.00 24907.78 3747.828\n",
       "29333 2020-12-25 20:00:00-06:00 24907.78 24976.00 24750.00 24838.27 3438.875\n",
       "29334 2020-12-25 21:00:00-06:00 24838.27 25039.96 24815.52 24909.79 3949.926\n",
       "29335 2020-12-25 22:00:00-06:00 24909.80 24920.00 24745.41 24810.06 2386.010\n",
       "29336 2020-12-25 23:00:00-06:00 24810.06 24843.44 24661.30 24708.87 2783.609\n",
       "29337 2020-12-26 00:00:00-06:00 24708.87 24868.98 24652.54 24830.66 1689.136\n",
       "      returns   \n",
       "29332  1.2418783\n",
       "29333 -0.2790694\n",
       "29334  0.2879428\n",
       "29335 -0.4003647\n",
       "29336 -0.4078587\n",
       "29337  0.4928999"
      ]
     },
     "metadata": {},
     "output_type": "display_data"
    }
   ],
   "source": [
    "# Getting returns\n",
    "bp$returns <- bp$close\n",
    "bp$returns <- ln_returns(bp$returns)\n",
    "bp <- tail(bp, (dim(bp)[1]-1))\n",
    "head(bp)\n",
    "tail(bp)"
   ]
  },
  {
   "cell_type": "markdown",
   "id": "destroyed-panic",
   "metadata": {},
   "source": [
    "# Returns column analysis"
   ]
  },
  {
   "cell_type": "code",
   "execution_count": 52,
   "id": "latin-saturday",
   "metadata": {},
   "outputs": [
    {
     "data": {
      "image/png": "[encoded data removed]",
      "text/plain": [
       "Plot with title \"Histogram of returns\""
      ]
     },
     "metadata": {},
     "output_type": "display_data"
    }
   ],
   "source": [
    "# Returns histogram\n",
    "returns <- bp$returns\n",
    "hist(returns, 100)"
   ]
  },
  {
   "cell_type": "code",
   "execution_count": 53,
   "id": "subject-highway",
   "metadata": {},
   "outputs": [
    {
     "data": {
      "text/plain": [
       "summary statistics\n",
       "------\n",
       "min:  -18.21147   max:  17.38399 \n",
       "median:  0.01354967 \n",
       "mean:  0.0109295 \n",
       "estimated sd:  0.961144 \n",
       "estimated skewness:  -0.04035676 \n",
       "estimated kurtosis:  35.54265 "
      ]
     },
     "metadata": {},
     "output_type": "display_data"
    },
    {
     "data": {
      "image/png": "[encoded data removed]",
      "text/plain": [
       "Plot with title \"Cullen and Frey graph\""
      ]
     },
     "metadata": {},
     "output_type": "display_data"
    }
   ],
   "source": [
    "descdist(returns)"
   ]
  },
  {
   "cell_type": "code",
   "execution_count": 54,
   "id": "driving-springfield",
   "metadata": {},
   "outputs": [
    {
     "data": {
      "image/png": "[encoded data removed]",
      "text/plain": [
       "plot without title"
      ]
     },
     "metadata": {},
     "output_type": "display_data"
    }
   ],
   "source": [
    "boxplot(returns)"
   ]
  },
  {
   "cell_type": "markdown",
   "id": "original-guest",
   "metadata": {},
   "source": [
    "## Adjusting a curve (Normal or t-student)"
   ]
  },
  {
   "cell_type": "markdown",
   "id": "precious-coordinate",
   "metadata": {},
   "source": [
    "**Critical values need to be founded for the next model selection**"
   ]
  },
  {
   "cell_type": "raw",
   "id": "healthy-constitutional",
   "metadata": {
    "collapsed": true
   },
   "source": [
    "# Fit Distribution\n",
    "fit1 <- MASS::fitdistr(returns, \"normal\")\n",
    "fit2 <- MASS::fitdistr(returns, \"t\")"
   ]
  },
  {
   "cell_type": "code",
   "execution_count": 96,
   "id": "respective-summit",
   "metadata": {},
   "outputs": [
    {
     "data": {
      "image/png": "[encoded data removed]",
      "text/plain": [
       "Plot with title \"\""
      ]
     },
     "metadata": {},
     "output_type": "display_data"
    }
   ],
   "source": [
    "# Normal histogram\n",
    "hist(returns, prob=TRUE, main=\"\")\n",
    "curve(dnorm(x, fit1$estimate[1], fit1$estimate[2]), col=\"red\", lwd=2, add=T)"
   ]
  },
  {
   "cell_type": "code",
   "execution_count": 97,
   "id": "broadband-glasgow",
   "metadata": {},
   "outputs": [
    {
     "data": {
      "image/png": "[encoded data removed]",
      "text/plain": [
       "Plot with title \"\""
      ]
     },
     "metadata": {},
     "output_type": "display_data"
    }
   ],
   "source": [
    "# t histogram\n",
    "hist(returns, prob=TRUE, main=\"\")\n",
    "curve(dt(x, fit2$estimate[3]), col=\"red\", lwd=2, add=T)"
   ]
  },
  {
   "cell_type": "code",
   "execution_count": 98,
   "id": "loving-definition",
   "metadata": {},
   "outputs": [
    {
     "data": {
      "image/png": "[encoded data removed]",
      "text/plain": [
       "Plot with title \"ecdf(returns)\""
      ]
     },
     "metadata": {},
     "output_type": "display_data"
    }
   ],
   "source": [
    "plot(ecdf(returns))\n",
    "curve(pnorm(x, fit1$estimate[1], fit1$estimate[2]), col=\"blue\", lwd=2, add=T)\n",
    "curve(pt(x, fit2$estimate[3]), col=\"green\", lwd=2, add=T)"
   ]
  },
  {
   "cell_type": "markdown",
   "id": "imposed-community",
   "metadata": {},
   "source": [
    "**For greater \"precision\", Akaike and Bayesian criterions are used**"
   ]
  },
  {
   "cell_type": "code",
   "execution_count": 99,
   "id": "environmental-frontier",
   "metadata": {},
   "outputs": [
    {
     "data": {
      "text/html": [
       "<table>\n",
       "<thead><tr><th scope=col>Distribution</th><th scope=col>AIC</th><th scope=col>BIC</th></tr></thead>\n",
       "<tbody>\n",
       "\t<tr><td>Normal   </td><td>81001.45 </td><td>81018.03 </td></tr>\n",
       "\t<tr><td>t-student</td><td>59436.33 </td><td>59452.91 </td></tr>\n",
       "</tbody>\n",
       "</table>\n"
      ],
      "text/latex": [
       "\\begin{tabular}{r|lll}\n",
       " Distribution & AIC & BIC\\\\\n",
       "\\hline\n",
       "\t Normal    & 81001.45  & 81018.03 \\\\\n",
       "\t t-student & 59436.33  & 59452.91 \\\\\n",
       "\\end{tabular}\n"
      ],
      "text/markdown": [
       "\n",
       "| Distribution | AIC | BIC |\n",
       "|---|---|---|\n",
       "| Normal    | 81001.45  | 81018.03  |\n",
       "| t-student | 59436.33  | 59452.91  |\n",
       "\n"
      ],
      "text/plain": [
       "  Distribution AIC      BIC     \n",
       "1 Normal       81001.45 81018.03\n",
       "2 t-student    59436.33 59452.91"
      ]
     },
     "metadata": {},
     "output_type": "display_data"
    }
   ],
   "source": [
    "# \n",
    "k <- 2\n",
    "n <- length(returns)\n",
    "\n",
    "\n",
    "distro <- c(\"Normal\", \"t-student\")\n",
    "aic_col <- c(2*k - 2*fit1$loglik, 2*k - 2*fit2$loglik)\n",
    "bic_col <- c(log(n)*k - 2*fit1$loglik, log(n)*k - 2*fit2$loglik)\n",
    "\n",
    "tab <- data.frame(Distribution= distro, AIC=aic_col, BIC=bic_col)\n",
    "\n",
    "tab"
   ]
  },
  {
   "cell_type": "markdown",
   "id": "linear-reminder",
   "metadata": {},
   "source": [
    "**Thus a t-student distribution fits better**\n",
    ">**Finally the returns are dived into 3 equal parts for the model selection and simplicity**"
   ]
  },
  {
   "cell_type": "code",
   "execution_count": 100,
   "id": "bridal-correspondence",
   "metadata": {},
   "outputs": [
    {
     "name": "stdout",
     "output_type": "stream",
     "text": [
      "[1] \"Returns values\"\n"
     ]
    },
    {
     "data": {
      "text/html": [
       "-0.515865739661981"
      ],
      "text/latex": [
       "-0.515865739661981"
      ],
      "text/markdown": [
       "-0.515865739661981"
      ],
      "text/plain": [
       "[1] -0.5158657"
      ]
     },
     "metadata": {},
     "output_type": "display_data"
    },
    {
     "data": {
      "text/html": [
       "0.515830425509656"
      ],
      "text/latex": [
       "0.515830425509656"
      ],
      "text/markdown": [
       "0.515830425509656"
      ],
      "text/plain": [
       "[1] 0.5158304"
      ]
     },
     "metadata": {},
     "output_type": "display_data"
    }
   ],
   "source": [
    "# Get values for separation\n",
    "r_a <- qt(.33333, fit2$estimate[3])#/100\n",
    "r_b <- qt(.66666, fit2$estimate[3])#/100\n",
    "\n",
    "print(\"Returns values\")\n",
    "r_a\n",
    "r_b"
   ]
  },
  {
   "cell_type": "markdown",
   "id": "linear-concentrate",
   "metadata": {},
   "source": [
    "# Joining google trends and btc prices returns"
   ]
  },
  {
   "cell_type": "code",
   "execution_count": 94,
   "id": "vertical-bolivia",
   "metadata": {},
   "outputs": [],
   "source": [
    "setwd(trends_path)\n",
    "\n",
    "# Load dataset\n",
    "gt <- read.table(\"google trends.csv\", sep=\",\", header = TRUE)"
   ]
  },
  {
   "cell_type": "code",
   "execution_count": 95,
   "id": "iraqi-vehicle",
   "metadata": {},
   "outputs": [],
   "source": [
    "# Change date format's google trends \n",
    "gt$date <- as.POSIXct(gt$date, format = \"%Y-%m-%d %H:%M:%OS\")\n",
    "\n",
    "# Extract a subset from btc prices \n",
    "new_bp <- bp[c(\"o_time\", \"returns\")]\n",
    "colnames(new_bp) <- c(\"date\", \"returns\")\n",
    "new_bp$date <- as.POSIXct(new_bp$date, format = \"%Y-%m-%d %H:%M:%OS\")\n",
    "new_bp <- subset(new_bp, date > as.POSIXct(\"2017-08-27 08:00:00\", format= \"%Y-%m-%d %H:%M:%OS\"))\n",
    "\n",
    "\n",
    "# Merge google trends & price returns \n",
    "db <- merge(gt, new_bp, by=\"date\", all = TRUE) \n",
    "\n",
    "\n",
    "setwd(data_path)\n",
    "write.csv(db, file = \"data_base.csv\", row.names = FALSE)"
   ]
  },
  {
   "cell_type": "code",
   "execution_count": null,
   "id": "exotic-valley",
   "metadata": {},
   "outputs": [],
   "source": []
  }
 ],
 "metadata": {
  "hide_input": false,
  "kernelspec": {
   "display_name": "R",
   "language": "R",
   "name": "ir"
  },
  "language_info": {
   "codemirror_mode": "r",
   "file_extension": ".r",
   "mimetype": "text/x-r-source",
   "name": "R",
   "pygments_lexer": "r",
   "version": "3.6.1"
  }
 },
 "nbformat": 4,
 "nbformat_minor": 5
}
